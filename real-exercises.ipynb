{
 "cells": [
  {
   "cell_type": "code",
   "execution_count": null,
   "id": "b4e5e074-d613-4fbe-8cad-6093931bbba9",
   "metadata": {},
   "outputs": [],
   "source": []
  }
 ],
 "metadata": {
  "kernelspec": {
   "display_name": "",
   "name": ""
  },
  "language_info": {
   "name": ""
  }
 },
 "nbformat": 4,
 "nbformat_minor": 5
}
